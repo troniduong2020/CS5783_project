{
 "cells": [
  {
   "cell_type": "code",
   "execution_count": 1,
   "metadata": {
    "_cell_guid": "79c7e3d0-c299-4dcb-8224-4455121ee9b0",
    "_uuid": "d629ff2d2480ee46fbb7e2d37f6b5fab8052498a"
   },
   "outputs": [],
   "source": [
    "import numpy as np\n",
    "import pandas as pd\n",
    "import seaborn as sns\n",
    "import matplotlib.pyplot as plt\n",
    "import nltk\n",
    "from nltk.corpus import stopwords\n",
    "from bs4 import BeautifulSoup\n",
    "import re,string,unicodedata\n",
    "from tensorflow.keras.preprocessing import text, sequence\n",
    "from sklearn.metrics import classification_report,confusion_matrix,accuracy_score\n",
    "from sklearn.model_selection import train_test_split\n",
    "from string import punctuation\n",
    "from nltk.corpus import wordnet\n",
    "import tensorflow.keras\n",
    "from tensorflow.keras.models import Sequential\n",
    "from tensorflow.keras.layers import Dense,Embedding,LSTM,Dropout\n",
    "from tensorflow.keras.callbacks import ReduceLROnPlateau\n",
    "import tensorflow as tf\n",
    "from tensorflow.keras.optimizers import Adam\n"
   ]
  },
  {
   "cell_type": "markdown",
   "metadata": {},
   "source": [
    "# load data"
   ]
  },
  {
   "cell_type": "code",
   "execution_count": 2,
   "metadata": {},
   "outputs": [],
   "source": [
    "train = pd.read_csv(\"liar/train.tsv\")\n",
    "val = pd.read_csv(\"liar/valid.tsv\")\n",
    "train['test']=0\n",
    "val['test']=0\n",
    "\n",
    "train.loc[train['category'] == 'TRUE', 'test'] = 1\n",
    "train.loc[train['category'] == 'mostly-true', 'test'] = 1\n",
    "\n",
    "val.loc[val['category'] == 'TRUE', 'test'] = 1\n",
    "val.loc[val['category'] == 'mostly-true', 'test'] = 1\n",
    "\n",
    "df=train\n"
   ]
  },
  {
   "cell_type": "markdown",
   "metadata": {},
   "source": [
    "# data Processing"
   ]
  },
  {
   "cell_type": "code",
   "execution_count": 3,
   "metadata": {},
   "outputs": [],
   "source": [
    "stopW = set(stopwords.words('english'))\n",
    "punctuation = list(string.punctuation)\n",
    "stopW.update(punctuation)\n",
    "\n",
    "def strip(text):\n",
    "    soup = BeautifulSoup(text, \"html.parser\")\n",
    "    return soup.get_text()\n",
    "def remove_noise(text):\n",
    "    return re.sub(r'http\\S+\\[[^]]*\\]', '', text)\n",
    "def remove_stopwords(text):\n",
    "    final_text = []\n",
    "    for i in text.split():\n",
    "        if i.strip().lower() not in stopW:\n",
    "            final_text.append(i.strip())\n",
    "    return \" \".join(final_text)\n",
    "#Remove noise\n",
    "def denoise_text(text):\n",
    "    text = strip(text)\n",
    "    text = remove_noise(text)\n",
    "    text = remove_stopwords(text)\n",
    "    return text\n",
    "\n",
    "df['text']=df['text'].apply(denoise_text)\n",
    "val['text']=val['text'].apply(denoise_text)\n"
   ]
  },
  {
   "cell_type": "code",
   "execution_count": 4,
   "metadata": {},
   "outputs": [],
   "source": [
    "x_train = df.text\n",
    "y_train = df.test\n",
    "x_test = val.text\n",
    "y_test = val.test"
   ]
  },
  {
   "cell_type": "code",
   "execution_count": 5,
   "metadata": {},
   "outputs": [],
   "source": [
    "max_f = 10000\n",
    "max_len = 300"
   ]
  },
  {
   "cell_type": "markdown",
   "metadata": {},
   "source": [
    "# word embeding with glove"
   ]
  },
  {
   "cell_type": "code",
   "execution_count": 6,
   "metadata": {},
   "outputs": [],
   "source": [
    "tokenizer = text.Tokenizer(num_words=max_f)\n",
    "tokenizer.fit_on_texts(x_train)\n",
    "tokenized_train = tokenizer.texts_to_sequences(x_train)\n",
    "x_train = sequence.pad_sequences(tokenized_train, maxlen=max_len)"
   ]
  },
  {
   "cell_type": "code",
   "execution_count": 7,
   "metadata": {},
   "outputs": [],
   "source": [
    "tokenizedTest = tokenizer.texts_to_sequences(x_test)\n",
    "X_test = sequence.pad_sequences(tokenizedTest, maxlen=max_len)"
   ]
  },
  {
   "cell_type": "code",
   "execution_count": 8,
   "metadata": {},
   "outputs": [
    {
     "name": "stderr",
     "output_type": "stream",
     "text": [
      "/home/exx/.conda/envs/troni-py38/lib/python3.8/site-packages/IPython/core/interactiveshell.py:3364: FutureWarning: arrays to stack must be passed as a \"sequence\" type such as list or tuple. Support for non-sequence iterables such as generators is deprecated as of NumPy 1.16 and will raise an error in the future.\n",
      "  if (await self.run_code(code, result,  async_=asy)):\n"
     ]
    }
   ],
   "source": [
    "EMBEDDING = 'kaggle/input/glove-twitter/glove.twitter.27B.50d.txt'\n",
    "def get_coefficients(word, *arr): \n",
    "    return word, np.asarray(arr, dtype='float32')\n",
    "embeddings_index = dict(get_coefficients(*o.rstrip().rsplit(' ')) for o in open(EMBEDDING))\n",
    "all_embs = np.stack(embeddings_index.values())\n",
    "emb_mean,emb_std = all_embs.mean(), all_embs.std()\n",
    "embed_size = all_embs.shape[1]\n",
    "\n",
    "word_index = tokenizer.word_index\n",
    "nb_words = min(max_f, len(word_index))\n",
    "#change below line if computing normal stats is too slow\n",
    "embedding_matrix = np.random.normal(emb_mean, emb_std, (nb_words, embed_size))\n",
    "\n",
    "for word, i in word_index.items():\n",
    "    if i >= max_f: continue\n",
    "    embedding_vector = embeddings_index.get(word)\n",
    "    if embedding_vector is not None: \n",
    "\n",
    "        embedding_matrix[i] = embedding_vector"
   ]
  },
  {
   "cell_type": "markdown",
   "metadata": {},
   "source": [
    "# AutoSK model"
   ]
  },
  {
   "cell_type": "code",
   "execution_count": 9,
   "metadata": {},
   "outputs": [
    {
     "name": "stdout",
     "output_type": "stream",
     "text": [
      "rm: cannot remove ‘/tmp/autosklearn_classification_example_tmp1’: No such file or directory\r\n"
     ]
    }
   ],
   "source": [
    "import autosklearn.classification\n",
    "!rm -r /tmp/autosklearn_classification_example_tmp1\n",
    "automl = autosklearn.classification.AutoSklearnClassifier(\n",
    "    time_left_for_this_task=6000,\n",
    "    per_run_time_limit=300,\n",
    "    tmp_folder='/tmp/autosklearn_classification_example_tmp1',\n",
    "    memory_limit=27000,\n",
    "    ensemble_size=10,\n",
    "#    include={'extra_tress'},\n",
    ")"
   ]
  },
  {
   "cell_type": "code",
   "execution_count": 10,
   "metadata": {},
   "outputs": [
    {
     "name": "stdout",
     "output_type": "stream",
     "text": [
      "[WARNING] [2021-11-26 11:24:03,250:Client-AutoML(1):69c3cc15-4eee-11ec-94f2-bb822b0a4874] Unknown dtype for X: int32, assuming it takes 8 bit/number\n",
      "[WARNING] [2021-11-26 11:24:13,212:Client-EnsembleBuilder] No models better than random - using Dummy loss!Number of models besides current dummy model: 1. Number of dummy models: 1\n",
      "[WARNING] [2021-11-26 11:24:27,446:Client-EnsembleBuilder] No models better than random - using Dummy loss!Number of models besides current dummy model: 2. Number of dummy models: 1\n",
      "[WARNING] [2021-11-26 11:25:00,593:Client-EnsembleBuilder] No models better than random - using Dummy loss!Number of models besides current dummy model: 3. Number of dummy models: 1\n",
      "[WARNING] [2021-11-26 11:25:03,210:Client-EnsembleBuilder] No models better than random - using Dummy loss!Number of models besides current dummy model: 3. Number of dummy models: 1\n",
      "[WARNING] [2021-11-26 11:25:08,654:Client-EnsembleBuilder] No models better than random - using Dummy loss!Number of models besides current dummy model: 4. Number of dummy models: 1\n",
      "[WARNING] [2021-11-26 11:25:16,975:Client-EnsembleBuilder] No models better than random - using Dummy loss!Number of models besides current dummy model: 5. Number of dummy models: 1\n",
      "[WARNING] [2021-11-26 11:26:32,746:Client-EnsembleBuilder] No models better than random - using Dummy loss!Number of models besides current dummy model: 6. Number of dummy models: 1\n",
      "[WARNING] [2021-11-26 11:26:51,818:Client-EnsembleBuilder] No models better than random - using Dummy loss!Number of models besides current dummy model: 7. Number of dummy models: 1\n",
      "[WARNING] [2021-11-26 11:27:00,311:Client-EnsembleBuilder] No models better than random - using Dummy loss!Number of models besides current dummy model: 8. Number of dummy models: 1\n",
      "[WARNING] [2021-11-26 11:32:01,540:Client-EnsembleBuilder] No models better than random - using Dummy loss!Number of models besides current dummy model: 8. Number of dummy models: 1\n",
      "[WARNING] [2021-11-26 11:32:57,378:Client-EnsembleBuilder] No models better than random - using Dummy loss!Number of models besides current dummy model: 9. Number of dummy models: 1\n",
      "[WARNING] [2021-11-26 11:33:00,466:Client-EnsembleBuilder] No models better than random - using Dummy loss!Number of models besides current dummy model: 10. Number of dummy models: 1\n",
      "[WARNING] [2021-11-26 11:33:02,561:Client-EnsembleBuilder] No models better than random - using Dummy loss!Number of models besides current dummy model: 10. Number of dummy models: 1\n",
      "[WARNING] [2021-11-26 11:38:04,020:Client-EnsembleBuilder] No models better than random - using Dummy loss!Number of models besides current dummy model: 10. Number of dummy models: 1\n",
      "[WARNING] [2021-11-26 11:38:22,708:Client-EnsembleBuilder] No models better than random - using Dummy loss!Number of models besides current dummy model: 11. Number of dummy models: 1\n",
      "[WARNING] [2021-11-26 11:38:28,285:Client-EnsembleBuilder] No models better than random - using Dummy loss!Number of models besides current dummy model: 12. Number of dummy models: 1\n",
      "[WARNING] [2021-11-26 11:38:30,720:Client-EnsembleBuilder] No models better than random - using Dummy loss!Number of models besides current dummy model: 13. Number of dummy models: 1\n",
      "[WARNING] [2021-11-26 11:38:32,811:Client-EnsembleBuilder] No models better than random - using Dummy loss!Number of models besides current dummy model: 13. Number of dummy models: 1\n",
      "[WARNING] [2021-11-26 11:43:34,278:Client-EnsembleBuilder] No models better than random - using Dummy loss!Number of models besides current dummy model: 13. Number of dummy models: 1\n",
      "[WARNING] [2021-11-26 11:48:36,134:Client-EnsembleBuilder] No models better than random - using Dummy loss!Number of models besides current dummy model: 13. Number of dummy models: 1\n",
      "[WARNING] [2021-11-26 11:48:51,892:Client-EnsembleBuilder] No models better than random - using Dummy loss!Number of models besides current dummy model: 14. Number of dummy models: 1\n",
      "[WARNING] [2021-11-26 11:53:53,372:Client-EnsembleBuilder] No models better than random - using Dummy loss!Number of models besides current dummy model: 14. Number of dummy models: 1\n",
      "[WARNING] [2021-11-26 11:54:02,267:Client-EnsembleBuilder] No models better than random - using Dummy loss!Number of models besides current dummy model: 15. Number of dummy models: 1\n",
      "[WARNING] [2021-11-26 11:54:16,379:Client-EnsembleBuilder] No models better than random - using Dummy loss!Number of models besides current dummy model: 16. Number of dummy models: 1\n",
      "[WARNING] [2021-11-26 11:54:21,105:Client-EnsembleBuilder] No models better than random - using Dummy loss!Number of models besides current dummy model: 17. Number of dummy models: 1\n",
      "[WARNING] [2021-11-26 11:54:25,345:Client-EnsembleBuilder] No models better than random - using Dummy loss!Number of models besides current dummy model: 18. Number of dummy models: 1\n",
      "[WARNING] [2021-11-26 11:54:33,813:Client-EnsembleBuilder] No models better than random - using Dummy loss!Number of models besides current dummy model: 19. Number of dummy models: 1\n",
      "[WARNING] [2021-11-26 11:54:39,028:Client-EnsembleBuilder] No models better than random - using Dummy loss!Number of models besides current dummy model: 20. Number of dummy models: 1\n",
      "[WARNING] [2021-11-26 11:54:40,190:Client-EnsembleBuilder] No models better than random - using Dummy loss!Number of models besides current dummy model: 21. Number of dummy models: 1\n",
      "[WARNING] [2021-11-26 11:54:49,808:Client-EnsembleBuilder] No models better than random - using Dummy loss!Number of models besides current dummy model: 22. Number of dummy models: 1\n",
      "[WARNING] [2021-11-26 11:54:57,284:Client-EnsembleBuilder] No models better than random - using Dummy loss!Number of models besides current dummy model: 23. Number of dummy models: 1\n",
      "[WARNING] [2021-11-26 11:55:02,377:Client-EnsembleBuilder] No models better than random - using Dummy loss!Number of models besides current dummy model: 24. Number of dummy models: 1\n",
      "[WARNING] [2021-11-26 11:55:06,207:Client-EnsembleBuilder] No models better than random - using Dummy loss!Number of models besides current dummy model: 25. Number of dummy models: 1\n",
      "[WARNING] [2021-11-26 11:55:07,685:Client-EnsembleBuilder] No models better than random - using Dummy loss!Number of models besides current dummy model: 26. Number of dummy models: 1\n",
      "[WARNING] [2021-11-26 11:55:08,968:Client-EnsembleBuilder] No models better than random - using Dummy loss!Number of models besides current dummy model: 27. Number of dummy models: 1\n",
      "[WARNING] [2021-11-26 11:55:10,342:Client-EnsembleBuilder] No models better than random - using Dummy loss!Number of models besides current dummy model: 28. Number of dummy models: 1\n",
      "[WARNING] [2021-11-26 11:55:14,857:Client-EnsembleBuilder] No models better than random - using Dummy loss!Number of models besides current dummy model: 28. Number of dummy models: 1\n",
      "[WARNING] [2021-11-26 12:00:19,193:Client-EnsembleBuilder] No models better than random - using Dummy loss!Number of models besides current dummy model: 28. Number of dummy models: 1\n",
      "[WARNING] [2021-11-26 12:00:25,335:Client-EnsembleBuilder] No models better than random - using Dummy loss!Number of models besides current dummy model: 29. Number of dummy models: 1\n",
      "[WARNING] [2021-11-26 12:00:48,773:Client-EnsembleBuilder] No models better than random - using Dummy loss!Number of models besides current dummy model: 30. Number of dummy models: 1\n",
      "[WARNING] [2021-11-26 12:00:51,193:Client-EnsembleBuilder] No models better than random - using Dummy loss!Number of models besides current dummy model: 30. Number of dummy models: 1\n",
      "[WARNING] [2021-11-26 12:01:57,593:Client-EnsembleBuilder] No models better than random - using Dummy loss!Number of models besides current dummy model: 31. Number of dummy models: 1\n",
      "[WARNING] [2021-11-26 12:02:02,859:Client-EnsembleBuilder] No models better than random - using Dummy loss!Number of models besides current dummy model: 32. Number of dummy models: 1\n",
      "[WARNING] [2021-11-26 12:02:11,299:Client-EnsembleBuilder] No models better than random - using Dummy loss!Number of models besides current dummy model: 33. Number of dummy models: 1\n",
      "[WARNING] [2021-11-26 12:02:12,816:Client-EnsembleBuilder] No models better than random - using Dummy loss!Number of models besides current dummy model: 34. Number of dummy models: 1\n",
      "[WARNING] [2021-11-26 12:02:19,808:Client-EnsembleBuilder] No models better than random - using Dummy loss!Number of models besides current dummy model: 35. Number of dummy models: 1\n",
      "[WARNING] [2021-11-26 12:02:23,971:Client-EnsembleBuilder] No models better than random - using Dummy loss!Number of models besides current dummy model: 36. Number of dummy models: 1\n",
      "[WARNING] [2021-11-26 12:02:26,823:Client-EnsembleBuilder] No models better than random - using Dummy loss!Number of models besides current dummy model: 37. Number of dummy models: 1\n",
      "[WARNING] [2021-11-26 12:02:37,810:Client-EnsembleBuilder] No models better than random - using Dummy loss!Number of models besides current dummy model: 38. Number of dummy models: 1\n",
      "[WARNING] [2021-11-26 12:02:39,330:Client-EnsembleBuilder] No models better than random - using Dummy loss!Number of models besides current dummy model: 39. Number of dummy models: 1\n",
      "[WARNING] [2021-11-26 12:07:41,079:Client-EnsembleBuilder] No models better than random - using Dummy loss!Number of models besides current dummy model: 39. Number of dummy models: 1\n",
      "[WARNING] [2021-11-26 12:07:47,159:Client-EnsembleBuilder] No models better than random - using Dummy loss!Number of models besides current dummy model: 40. Number of dummy models: 1\n",
      "[WARNING] [2021-11-26 12:07:51,427:Client-EnsembleBuilder] No models better than random - using Dummy loss!Number of models besides current dummy model: 41. Number of dummy models: 1\n",
      "[WARNING] [2021-11-26 12:12:52,960:Client-EnsembleBuilder] No models better than random - using Dummy loss!Number of models besides current dummy model: 41. Number of dummy models: 1\n",
      "[WARNING] [2021-11-26 12:13:35,128:Client-EnsembleBuilder] No models better than random - using Dummy loss!Number of models besides current dummy model: 42. Number of dummy models: 1\n",
      "[WARNING] [2021-11-26 12:13:37,503:Client-EnsembleBuilder] No models better than random - using Dummy loss!Number of models besides current dummy model: 42. Number of dummy models: 1\n",
      "[WARNING] [2021-11-26 12:13:48,907:Client-EnsembleBuilder] No models better than random - using Dummy loss!Number of models besides current dummy model: 43. Number of dummy models: 1\n",
      "[WARNING] [2021-11-26 12:13:50,454:Client-EnsembleBuilder] No models better than random - using Dummy loss!Number of models besides current dummy model: 44. Number of dummy models: 1\n",
      "[WARNING] [2021-11-26 12:18:52,028:Client-EnsembleBuilder] No models better than random - using Dummy loss!Number of models besides current dummy model: 44. Number of dummy models: 1\n",
      "[WARNING] [2021-11-26 12:18:55,751:Client-EnsembleBuilder] No models better than random - using Dummy loss!Number of models besides current dummy model: 45. Number of dummy models: 1\n",
      "[WARNING] [2021-11-26 12:19:02,421:Client-EnsembleBuilder] No models better than random - using Dummy loss!Number of models besides current dummy model: 46. Number of dummy models: 1\n",
      "[WARNING] [2021-11-26 12:19:18,274:Client-EnsembleBuilder] No models better than random - using Dummy loss!Number of models besides current dummy model: 47. Number of dummy models: 1\n",
      "[WARNING] [2021-11-26 12:19:51,278:Client-EnsembleBuilder] No models better than random - using Dummy loss!Number of models besides current dummy model: 48. Number of dummy models: 1\n",
      "[WARNING] [2021-11-26 12:20:04,223:Client-EnsembleBuilder] No models better than random - using Dummy loss!Number of models besides current dummy model: 49. Number of dummy models: 1\n",
      "[WARNING] [2021-11-26 12:20:06,852:Client-EnsembleBuilder] No models better than random - using Dummy loss!Number of models besides current dummy model: 50. Number of dummy models: 1\n",
      "[WARNING] [2021-11-26 12:20:13,093:Client-EnsembleBuilder] No models better than random - using Dummy loss!Number of models besides current dummy model: 51. Number of dummy models: 1\n",
      "[WARNING] [2021-11-26 12:20:14,416:Client-EnsembleBuilder] No models better than random - using Dummy loss!Number of models besides current dummy model: 52. Number of dummy models: 1\n",
      "[WARNING] [2021-11-26 12:20:18,675:Client-EnsembleBuilder] No models better than random - using Dummy loss!Number of models besides current dummy model: 52. Number of dummy models: 1\n",
      "[WARNING] [2021-11-26 12:20:27,404:Client-EnsembleBuilder] No models better than random - using Dummy loss!Number of models besides current dummy model: 53. Number of dummy models: 1\n",
      "[WARNING] [2021-11-26 12:20:31,885:Client-EnsembleBuilder] No models better than random - using Dummy loss!Number of models besides current dummy model: 53. Number of dummy models: 1\n",
      "[WARNING] [2021-11-26 12:21:49,013:Client-EnsembleBuilder] No models better than random - using Dummy loss!Number of models besides current dummy model: 54. Number of dummy models: 1\n",
      "[WARNING] [2021-11-26 12:22:12,862:Client-EnsembleBuilder] No models better than random - using Dummy loss!Number of models besides current dummy model: 55. Number of dummy models: 1\n",
      "[WARNING] [2021-11-26 12:27:14,150:Client-EnsembleBuilder] No models better than random - using Dummy loss!Number of models besides current dummy model: 55. Number of dummy models: 1\n",
      "[WARNING] [2021-11-26 12:28:18,485:Client-EnsembleBuilder] No models better than random - using Dummy loss!Number of models besides current dummy model: 56. Number of dummy models: 1\n",
      "[WARNING] [2021-11-26 12:28:19,881:Client-EnsembleBuilder] No models better than random - using Dummy loss!Number of models besides current dummy model: 57. Number of dummy models: 1\n"
     ]
    },
    {
     "data": {
      "text/plain": [
       "AutoSklearnClassifier(ensemble_size=10, memory_limit=27000,\n",
       "                      per_run_time_limit=300, time_left_for_this_task=6000,\n",
       "                      tmp_folder='/tmp/autosklearn_classification_example_tmp1')"
      ]
     },
     "execution_count": 10,
     "metadata": {},
     "output_type": "execute_result"
    }
   ],
   "source": [
    "automl.fit(x_train, y_train)\n"
   ]
  },
  {
   "cell_type": "code",
   "execution_count": 11,
   "metadata": {},
   "outputs": [
    {
     "name": "stdout",
     "output_type": "stream",
     "text": [
      "Accuracy score 0.6791277258566978\n"
     ]
    }
   ],
   "source": [
    "import sklearn\n",
    "y_hat = automl.predict(X_test)\n",
    "print(\"Accuracy score\", sklearn.metrics.accuracy_score(y_test, y_hat))"
   ]
  },
  {
   "cell_type": "code",
   "execution_count": 12,
   "metadata": {},
   "outputs": [
    {
     "name": "stdout",
     "output_type": "stream",
     "text": [
      "[(1.000000, SimpleClassificationPipeline({'balancing:strategy': 'none', 'classifier:__choice__': 'random_forest', 'data_preprocessor:__choice__': 'feature_type', 'feature_preprocessor:__choice__': 'select_rates_classification', 'classifier:random_forest:bootstrap': 'True', 'classifier:random_forest:criterion': 'entropy', 'classifier:random_forest:max_depth': 'None', 'classifier:random_forest:max_features': 0.5, 'classifier:random_forest:max_leaf_nodes': 'None', 'classifier:random_forest:min_impurity_decrease': 0.0, 'classifier:random_forest:min_samples_leaf': 1, 'classifier:random_forest:min_samples_split': 13, 'classifier:random_forest:min_weight_fraction_leaf': 0.0, 'data_preprocessor:feature_type:categorical_transformer:categorical_encoding:__choice__': 'no_encoding', 'data_preprocessor:feature_type:categorical_transformer:category_coalescence:__choice__': 'no_coalescense', 'data_preprocessor:feature_type:numerical_transformer:imputation:strategy': 'median', 'data_preprocessor:feature_type:numerical_transformer:rescaling:__choice__': 'none', 'feature_preprocessor:select_rates_classification:alpha': 0.20470022017232908, 'feature_preprocessor:select_rates_classification:score_func': 'chi2', 'feature_preprocessor:select_rates_classification:mode': 'fpr'},\n",
      "dataset_properties={\n",
      "  'task': 1,\n",
      "  'sparse': False,\n",
      "  'multilabel': False,\n",
      "  'multiclass': False,\n",
      "  'target_type': 'classification',\n",
      "  'signed': False})),\n",
      "]\n"
     ]
    }
   ],
   "source": [
    "print(automl.show_models())\n"
   ]
  },
  {
   "cell_type": "code",
   "execution_count": 13,
   "metadata": {},
   "outputs": [
    {
     "data": {
      "image/png": "[encoded data removed]",
      "text/plain": [
       "<Figure size 640x480 with 1 Axes>"
      ]
     },
     "metadata": {},
     "output_type": "display_data"
    }
   ],
   "source": [
    "import matplotlib.pyplot as plt\n",
    "\n",
    "poT = automl.performance_over_time_\n",
    "poT.plot(\n",
    "    x='Timestamp',\n",
    "    kind='line',\n",
    "    legend=True,\n",
    "    title='Auto-sklearn accuracy',\n",
    "    grid=True,\n",
    ")\n",
    "plt.show()"
   ]
  },
  {
   "cell_type": "code",
   "execution_count": null,
   "metadata": {},
   "outputs": [],
   "source": []
  }
 ],
 "metadata": {
  "kernelspec": {
   "display_name": "troni-py38",
   "language": "python",
   "name": "troni-py38"
  },
  "language_info": {
   "codemirror_mode": {
    "name": "ipython",
    "version": 3
   },
   "file_extension": ".py",
   "mimetype": "text/x-python",
   "name": "python",
   "nbconvert_exporter": "python",
   "pygments_lexer": "ipython3",
   "version": "3.8.2"
  }
 },
 "nbformat": 4,
 "nbformat_minor": 4
}
